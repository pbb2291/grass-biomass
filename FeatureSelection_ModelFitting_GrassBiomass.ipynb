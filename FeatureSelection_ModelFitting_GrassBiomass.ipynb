{
 "cells": [
  {
   "cell_type": "code",
   "execution_count": 1,
   "id": "b817226e-d897-4060-b65b-64223adf682a",
   "metadata": {},
   "outputs": [],
   "source": [
    "# Initial Model Fitting in PyGam\n",
    "# PB 1/18/23\n",
    "import pygam\n",
    "from pygam import LinearGAM, s\n",
    "import pandas as pd\n",
    "# Awesome package for non-linear correlation analysis\n",
    "# should be really useful for feature selection\n",
    "# https://www.sciencedirect.com/science/article/pii/S2352711021000315#fig2\n",
    "# https://github.com/ElsevierSoftwareX/SOFTX-D-20-00028\n",
    "from ennemi import pairwise_mi, pairwise_corr\n",
    "\n",
    "# TBD\n",
    "# Set up model validation (cross validation)\n",
    "# Do Herb H and Max/mean field height comparisons (correlation, regressions, etc.)\n",
    "\n",
    "region = 'Mpala'\n",
    "XYdf = pd.read_csv(f'./data/out/{region}/XYdata.csv')"
   ]
  },
  {
   "cell_type": "code",
   "execution_count": null,
   "id": "4d06a7fd-6f94-4fb2-a0a0-2d9497218428",
   "metadata": {},
   "outputs": [],
   "source": [
    "# Compute pairwise correlation using mututal information index\n",
    "corr = pairwise_corr(XYdf.select_dtypes(include=np.number), drop_nan=True)\n",
    "\n",
    "# Print Top Variables in order\n",
    "# corr.loc['Dry Weight Without Bag (g)'].sort_values(ascending=False)\n",
    "# corr.loc['log(DryWeight)'].sort_values(ascending=False)\n",
    "corr.loc['Wet Weight Without Bag (g)'].sort_values(ascending=False)"
   ]
  },
  {
   "cell_type": "code",
   "execution_count": null,
   "id": "fc76c723-7111-4aac-a51f-eb41c9f158dc",
   "metadata": {},
   "outputs": [],
   "source": [
    "# Mpala - top pairwise corr - 1/19/23 (PAI missing)\n",
    "# Looks like the best (for non-logged data) are:\n",
    "# mean                          0.767734\n",
    "# cover_5cm                     0.758918\n",
    "# 100                           0.746070\n",
    "# 50                            0.731141\n",
    "# coverherb_5cm                 0.727583\n",
    "# 98                            0.725110\n",
    "# 75                            0.722333\n",
    "# FHD                           0.713418\n",
    "# 25                            0.710809"
   ]
  },
  {
   "cell_type": "code",
   "execution_count": null,
   "id": "d7932af6-d6a7-4029-899c-d3b9ba19acad",
   "metadata": {},
   "outputs": [],
   "source": [
    "# Let's GAM!\n",
    "\n",
    "X = XYdf[['mean', 'coverherb_5cm']]\n",
    "y = XYdf[['Dry Weight Without Bag (g)']]\n",
    "gam = LinearGAM(s(0) + s(1)).fit(X, y)\n",
    "gam.summary()"
   ]
  },
  {
   "cell_type": "code",
   "execution_count": null,
   "id": "d82cbad3-f1d8-4f7a-b520-f7decaffbab3",
   "metadata": {},
   "outputs": [],
   "source": [
    "# Log Model \n",
    "# X = XYdf[['mean', 'coverherb_5cm']]\n",
    "# y = XYdf[['log(DryWeight)']]\n",
    "# gam = LinearGAM(s(0) + s(1)).fit(X, y)\n",
    "# gam.summary()"
   ]
  },
  {
   "cell_type": "code",
   "execution_count": null,
   "id": "91294a99-3e28-429d-b68d-2b75b2a894ba",
   "metadata": {},
   "outputs": [],
   "source": [
    "# Partial Dependence plots\n",
    "# NOTE: Code Pulled directly from the gam site\n",
    "for i, term in enumerate(gam.terms):\n",
    "    if term.isintercept:\n",
    "        continue\n",
    "\n",
    "    XX = gam.generate_X_grid(term=i)\n",
    "    pdep, confi = gam.partial_dependence(term=i, X=XX, width=0.95)\n",
    "\n",
    "    plt.figure()\n",
    "    plt.plot(XX[:, term.feature], pdep)\n",
    "    plt.plot(XX[:, term.feature], confi, c='r', ls='--')\n",
    "    plt.title(repr(term))\n",
    "    plt.show()"
   ]
  },
  {
   "cell_type": "code",
   "execution_count": null,
   "id": "98dc6375-72fa-44d5-9094-9d67e173b2ba",
   "metadata": {},
   "outputs": [],
   "source": [
    "# Do a gridspace search \n",
    "# Also taken directly from pyGam website\n",
    "\n",
    "lam = np.logspace(-3, 5, 5)\n",
    "# lam = np.array([0.9, 0.8, 0.7, 0.6, 0.5, 0.4, 0.3, 0.2, 0.1])\n",
    "lams = [lam] * 2\n",
    "# https://pygam.readthedocs.io/en/latest/notebooks/quick_start.html#Fit-a-Model\n",
    "gam = LinearGAM(s(0) + s(1)).gridsearch(X, y, lam=lams)\n",
    "gam.summary()\n"
   ]
  }
 ],
 "metadata": {
  "kernelspec": {
   "display_name": "Python [conda env:.conda-Halo]",
   "language": "python",
   "name": "conda-env-.conda-Halo-py"
  },
  "language_info": {
   "codemirror_mode": {
    "name": "ipython",
    "version": 3
   },
   "file_extension": ".py",
   "mimetype": "text/x-python",
   "name": "python",
   "nbconvert_exporter": "python",
   "pygments_lexer": "ipython3",
   "version": "3.8.6"
  }
 },
 "nbformat": 4,
 "nbformat_minor": 5
}
