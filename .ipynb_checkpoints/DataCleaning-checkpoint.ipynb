{
 "cells": [
  {
   "cell_type": "markdown",
   "id": "7aa0d09a-2b8d-4466-89aa-f2f5b4c22b8f",
   "metadata": {
    "pycharm": {
     "name": "#%% md\n"
    }
   },
   "source": [
    "### Clean and Package X, y Data for Model Fitting\n",
    "PB 1/18/2023"
   ]
  },
  {
   "cell_type": "code",
   "execution_count": 30,
   "id": "0ab93c1a-ea9c-46bf-8728-a23ae8936d3d",
   "metadata": {
    "pycharm": {
     "is_executing": true,
     "name": "#%%\n"
    }
   },
   "outputs": [],
   "source": [
    "import pandas as pd\n",
    "import numpy as np\n",
    "from pathlib import Path\n",
    "import matplotlib.pyplot as plt\n",
    "import seaborn as sns\n",
    "\n",
    "# TBD: \n",
    "# Fix PAI \n",
    "# Run kruger\n",
    "\n",
    "# regions = ['Mpala', 'Kruger']\n",
    "region = 'Mpala'\n",
    "\n",
    "# Load X Data\n",
    "metricdir = Path(f'./data/out/')\n",
    "\n",
    "# Print files in folder (just for reference\n",
    "# for f in metricdir.joinpath(region).glob('*'):\n",
    "    # print(f)\n",
    "\n",
    "coverd1 = pd.read_csv(metricdir.joinpath(region).joinpath('CoverD1.csv'), index_col=0)\n",
    "coverd2 = pd.read_csv(metricdir.joinpath(region).joinpath('CoverD2.csv'), index_col=0)\n",
    "coverd2byH = pd.read_csv(metricdir.joinpath(region).joinpath('CoverD2byH.csv'), index_col=0)\n",
    "complexity = pd.read_csv(metricdir.joinpath(region).joinpath('ComplexityMetrics.csv'), index_col=0)\n",
    "perc = pd.read_csv(metricdir.joinpath(region).joinpath('PercentileHeights.csv'), index_col=0)\n",
    "PAI = pd.read_csv(metricdir.joinpath(region).joinpath('FHPD2.csv'), index_col=0)\n",
    "npulses = pd.read_csv(metricdir.joinpath(region).joinpath('Npulses.csv'), index_col=0)\n",
    "\n",
    "# Open & Format y dataset for merging\n",
    "BiomassData = pd.read_csv(Path('./data/in/Mpala2022/MpalaGrassBiomassSurveys2022Curated.csv'))\n",
    "\n",
    "# Note need to cut some blank lines from the mpala y data file\n",
    "if region == 'Mpala':\n",
    "    BiomassData = BiomassData[0:193]\n",
    "    \n",
    "# Add id column to merge with x data later\n",
    "BiomassData['id'] = BiomassData['GPS #'].apply(lambda x: int(x))"
   ]
  },
  {
   "cell_type": "code",
   "execution_count": 31,
   "id": "12fd8331-d794-40f3-8386-2139895f7465",
   "metadata": {
    "pycharm": {
     "name": "#%%\n"
    }
   },
   "outputs": [
    {
     "data": {
      "text/plain": [
       "(-0.1, 2.0)"
      ]
     },
     "execution_count": 31,
     "metadata": {},
     "output_type": "execute_result"
    },
    {
     "data": {
      "image/png": "[encoded data removed]",
      "text/plain": [
       "<Figure size 640x480 with 1 Axes>"
      ]
     },
     "metadata": {},
     "output_type": "display_data"
    }
   ],
   "source": [
    "# Testing \n",
    "featid = 'Mpala01-4'\n",
    "# Test plot of mpala cover data\n",
    "fig, ax = plt.subplots()\n",
    "ax.plot(coverd2byH[featid], coverd2byH[featid].index)\n",
    "ax.plot(coverd2[featid], coverd2[featid].index)\n",
    "# Add herbaceous layer height\n",
    "ax.hlines(complexity[featid].loc['herbh'], xmin=0, xmax=0.9)\n",
    "ax.set_ylim(-0.1, 2)"
   ]
  },
  {
   "cell_type": "code",
   "execution_count": 32,
   "id": "bc49b914-84e6-4321-8e2f-9f4152ea30a7",
   "metadata": {
    "pycharm": {
     "name": "#%%\n"
    }
   },
   "outputs": [
    {
     "data": {
      "text/html": [
       "<div>\n",
       "<style scoped>\n",
       "    .dataframe tbody tr th:only-of-type {\n",
       "        vertical-align: middle;\n",
       "    }\n",
       "\n",
       "    .dataframe tbody tr th {\n",
       "        vertical-align: top;\n",
       "    }\n",
       "\n",
       "    .dataframe thead th {\n",
       "        text-align: right;\n",
       "    }\n",
       "</style>\n",
       "<table border=\"1\" class=\"dataframe\">\n",
       "  <thead>\n",
       "    <tr style=\"text-align: right;\">\n",
       "      <th>featureid</th>\n",
       "      <th>Mpala01-13</th>\n",
       "      <th>Mpala01-1</th>\n",
       "      <th>Mpala01-2</th>\n",
       "      <th>Mpala01-3</th>\n",
       "      <th>Mpala01-4</th>\n",
       "      <th>Mpala01-5</th>\n",
       "      <th>Mpala01-6</th>\n",
       "      <th>Mpala01-7</th>\n",
       "      <th>Mpala01-8</th>\n",
       "      <th>Mpala01-9</th>\n",
       "      <th>...</th>\n",
       "      <th>Mpala15-192</th>\n",
       "      <th>Mpala15-193</th>\n",
       "      <th>Mpala15-194</th>\n",
       "      <th>Mpala15-195</th>\n",
       "      <th>Mpala15-196</th>\n",
       "      <th>Mpala15-197</th>\n",
       "      <th>Mpala15-200</th>\n",
       "      <th>Mpala15-198</th>\n",
       "      <th>Mpala15-199</th>\n",
       "      <th>Mpala07-121</th>\n",
       "    </tr>\n",
       "  </thead>\n",
       "  <tbody>\n",
       "    <tr>\n",
       "      <th>featureid</th>\n",
       "      <td>Mpala01-13</td>\n",
       "      <td>Mpala01-1</td>\n",
       "      <td>Mpala01-2</td>\n",
       "      <td>Mpala01-3</td>\n",
       "      <td>Mpala01-4</td>\n",
       "      <td>Mpala01-5</td>\n",
       "      <td>Mpala01-6</td>\n",
       "      <td>Mpala01-7</td>\n",
       "      <td>Mpala01-8</td>\n",
       "      <td>Mpala01-9</td>\n",
       "      <td>...</td>\n",
       "      <td>Mpala15-192</td>\n",
       "      <td>Mpala15-193</td>\n",
       "      <td>Mpala15-194</td>\n",
       "      <td>Mpala15-195</td>\n",
       "      <td>Mpala15-196</td>\n",
       "      <td>Mpala15-197</td>\n",
       "      <td>Mpala15-200</td>\n",
       "      <td>Mpala15-198</td>\n",
       "      <td>Mpala15-199</td>\n",
       "      <td>Mpala07-121</td>\n",
       "    </tr>\n",
       "    <tr>\n",
       "      <th>id</th>\n",
       "      <td>13</td>\n",
       "      <td>1</td>\n",
       "      <td>2</td>\n",
       "      <td>3</td>\n",
       "      <td>4</td>\n",
       "      <td>5</td>\n",
       "      <td>6</td>\n",
       "      <td>7</td>\n",
       "      <td>8</td>\n",
       "      <td>9</td>\n",
       "      <td>...</td>\n",
       "      <td>192</td>\n",
       "      <td>193</td>\n",
       "      <td>194</td>\n",
       "      <td>195</td>\n",
       "      <td>196</td>\n",
       "      <td>197</td>\n",
       "      <td>200</td>\n",
       "      <td>198</td>\n",
       "      <td>199</td>\n",
       "      <td>121</td>\n",
       "    </tr>\n",
       "    <tr>\n",
       "      <th>coverherb_0m</th>\n",
       "      <td>0.508197</td>\n",
       "      <td>0.303571</td>\n",
       "      <td>0.398571</td>\n",
       "      <td>0.348837</td>\n",
       "      <td>0.855725</td>\n",
       "      <td>0.297425</td>\n",
       "      <td>0.282437</td>\n",
       "      <td>0.304762</td>\n",
       "      <td>0.490909</td>\n",
       "      <td>0.243963</td>\n",
       "      <td>...</td>\n",
       "      <td>0.015625</td>\n",
       "      <td>0.051724</td>\n",
       "      <td>0.0</td>\n",
       "      <td>0.0</td>\n",
       "      <td>0.189026</td>\n",
       "      <td>0.0625</td>\n",
       "      <td>0.0</td>\n",
       "      <td>0.024096</td>\n",
       "      <td>0.0</td>\n",
       "      <td>0.362319</td>\n",
       "    </tr>\n",
       "    <tr>\n",
       "      <th>coverherb_5cm</th>\n",
       "      <td>0.163934</td>\n",
       "      <td>0.0</td>\n",
       "      <td>0.131905</td>\n",
       "      <td>0.255814</td>\n",
       "      <td>0.825422</td>\n",
       "      <td>0.043904</td>\n",
       "      <td>0.021073</td>\n",
       "      <td>0.209524</td>\n",
       "      <td>0.254545</td>\n",
       "      <td>0.015392</td>\n",
       "      <td>...</td>\n",
       "      <td>0.0</td>\n",
       "      <td>0.0</td>\n",
       "      <td>0.0</td>\n",
       "      <td>0.0</td>\n",
       "      <td>0.03347</td>\n",
       "      <td>0.0</td>\n",
       "      <td>0.0</td>\n",
       "      <td>0.0</td>\n",
       "      <td>0.0</td>\n",
       "      <td>0.0</td>\n",
       "    </tr>\n",
       "    <tr>\n",
       "      <th>cover_0m</th>\n",
       "      <td>0.508197</td>\n",
       "      <td>0.303571</td>\n",
       "      <td>0.4</td>\n",
       "      <td>0.348837</td>\n",
       "      <td>0.893939</td>\n",
       "      <td>0.309859</td>\n",
       "      <td>0.295455</td>\n",
       "      <td>0.561905</td>\n",
       "      <td>0.5</td>\n",
       "      <td>0.257143</td>\n",
       "      <td>...</td>\n",
       "      <td>0.117188</td>\n",
       "      <td>0.051724</td>\n",
       "      <td>0.045455</td>\n",
       "      <td>0.0</td>\n",
       "      <td>0.2</td>\n",
       "      <td>0.0625</td>\n",
       "      <td>0.013889</td>\n",
       "      <td>0.47992</td>\n",
       "      <td>0.0</td>\n",
       "      <td>0.362319</td>\n",
       "    </tr>\n",
       "  </tbody>\n",
       "</table>\n",
       "<p>5 rows × 178 columns</p>\n",
       "</div>"
      ],
      "text/plain": [
       "featureid      Mpala01-13  Mpala01-1  Mpala01-2  Mpala01-3  Mpala01-4  \\\n",
       "featureid      Mpala01-13  Mpala01-1  Mpala01-2  Mpala01-3  Mpala01-4   \n",
       "id                     13          1          2          3          4   \n",
       "coverherb_0m     0.508197   0.303571   0.398571   0.348837   0.855725   \n",
       "coverherb_5cm    0.163934        0.0   0.131905   0.255814   0.825422   \n",
       "cover_0m         0.508197   0.303571        0.4   0.348837   0.893939   \n",
       "\n",
       "featureid      Mpala01-5  Mpala01-6  Mpala01-7  Mpala01-8  Mpala01-9  ...  \\\n",
       "featureid      Mpala01-5  Mpala01-6  Mpala01-7  Mpala01-8  Mpala01-9  ...   \n",
       "id                     5          6          7          8          9  ...   \n",
       "coverherb_0m    0.297425   0.282437   0.304762   0.490909   0.243963  ...   \n",
       "coverherb_5cm   0.043904   0.021073   0.209524   0.254545   0.015392  ...   \n",
       "cover_0m        0.309859   0.295455   0.561905        0.5   0.257143  ...   \n",
       "\n",
       "featureid      Mpala15-192  Mpala15-193  Mpala15-194  Mpala15-195  \\\n",
       "featureid      Mpala15-192  Mpala15-193  Mpala15-194  Mpala15-195   \n",
       "id                     192          193          194          195   \n",
       "coverherb_0m      0.015625     0.051724          0.0          0.0   \n",
       "coverherb_5cm          0.0          0.0          0.0          0.0   \n",
       "cover_0m          0.117188     0.051724     0.045455          0.0   \n",
       "\n",
       "featureid      Mpala15-196  Mpala15-197  Mpala15-200  Mpala15-198  \\\n",
       "featureid      Mpala15-196  Mpala15-197  Mpala15-200  Mpala15-198   \n",
       "id                     196          197          200          198   \n",
       "coverherb_0m      0.189026       0.0625          0.0     0.024096   \n",
       "coverherb_5cm      0.03347          0.0          0.0          0.0   \n",
       "cover_0m               0.2       0.0625     0.013889      0.47992   \n",
       "\n",
       "featureid      Mpala15-199  Mpala07-121  \n",
       "featureid      Mpala15-199  Mpala07-121  \n",
       "id                     199          121  \n",
       "coverherb_0m           0.0     0.362319  \n",
       "coverherb_5cm          0.0          0.0  \n",
       "cover_0m               0.0     0.362319  \n",
       "\n",
       "[5 rows x 178 columns]"
      ]
     },
     "execution_count": 32,
     "metadata": {},
     "output_type": "execute_result"
    }
   ],
   "source": [
    "# Make a cover within the herbaceous layer dictionary\n",
    "# Uses the caluclated herbaceous layer height to only grab cover from the top and bottom of the grass layer\n",
    "cherb_dict = {'featureid':[],\n",
    "              'id':[],\n",
    "              'coverherb_0m':[],\n",
    "              'coverherb_5cm':[],\n",
    "              'cover_0m':[],\n",
    "              'cover_5cm':[]}\n",
    "\n",
    "for featid in coverd2.columns:\n",
    "    \n",
    "    herbh = complexity[featid].loc['herbh']\n",
    "\n",
    "    # find indices with 2 closest values to herbh\n",
    "    i = np.argsort(np.abs(coverd2.index - herbh))\n",
    "\n",
    "    coverd2.index[i[0:2]]\n",
    "\n",
    "    # Interpolate a cover value at the herbh\n",
    "    chmax = np.interp(herbh, xp=coverd2.index, fp=coverd2[featid])\n",
    "\n",
    "    # Get cover value at bottom\n",
    "    chmin = coverd2[featid].iloc[0]\n",
    "\n",
    "    # Also, calc at ground level (0.05 m)\n",
    "    chmin_ground = coverd2[featid].iloc[1]\n",
    "\n",
    "    # Get total cover within herbaceous layer\n",
    "    # test both ground and non-ground\n",
    "    cherb = chmin - chmax\n",
    "    cherb_ground = chmin_ground - chmax\n",
    "    \n",
    "    # Append to dict\n",
    "    cherb_dict['featureid'].append(featid)\n",
    "    cherb_dict['id'].append(int(featid.split('-')[1]))\n",
    "    cherb_dict['coverherb_0m'].append(cherb)\n",
    "    cherb_dict['coverherb_5cm'].append(cherb_ground)\n",
    "    cherb_dict['cover_0m'].append(chmin)\n",
    "    cherb_dict['cover_5cm'].append(chmin_ground)\n",
    "\n",
    "cherb_df = pd.DataFrame(cherb_dict)\n",
    "cherb_df_t = cherb_df.transpose()\n",
    "cherb_df_t.columns = cherb_df['featureid']\n",
    "cherb_df_t.head()"
   ]
  },
  {
   "cell_type": "code",
   "execution_count": 33,
   "id": "41da6416-35c6-4651-b8cf-7ecaa7e1a1f9",
   "metadata": {
    "pycharm": {
     "name": "#%%\n"
    }
   },
   "outputs": [
    {
     "data": {
      "text/html": [
       "<div>\n",
       "<style scoped>\n",
       "    .dataframe tbody tr th:only-of-type {\n",
       "        vertical-align: middle;\n",
       "    }\n",
       "\n",
       "    .dataframe tbody tr th {\n",
       "        vertical-align: top;\n",
       "    }\n",
       "\n",
       "    .dataframe thead th {\n",
       "        text-align: right;\n",
       "    }\n",
       "</style>\n",
       "<table border=\"1\" class=\"dataframe\">\n",
       "  <thead>\n",
       "    <tr style=\"text-align: right;\">\n",
       "      <th></th>\n",
       "      <th>0</th>\n",
       "      <th>25</th>\n",
       "      <th>50</th>\n",
       "      <th>75</th>\n",
       "      <th>98</th>\n",
       "      <th>100</th>\n",
       "      <th>mean</th>\n",
       "      <th>std</th>\n",
       "      <th>id</th>\n",
       "    </tr>\n",
       "  </thead>\n",
       "  <tbody>\n",
       "    <tr>\n",
       "      <th>Mpala01-13</th>\n",
       "      <td>0.050984</td>\n",
       "      <td>0.054362</td>\n",
       "      <td>0.059458</td>\n",
       "      <td>0.063149</td>\n",
       "      <td>0.081209</td>\n",
       "      <td>0.082254</td>\n",
       "      <td>0.061687</td>\n",
       "      <td>0.009864</td>\n",
       "      <td>13</td>\n",
       "    </tr>\n",
       "    <tr>\n",
       "      <th>Mpala01-1</th>\n",
       "      <td>0.000000</td>\n",
       "      <td>0.000000</td>\n",
       "      <td>0.000000</td>\n",
       "      <td>0.000000</td>\n",
       "      <td>0.000000</td>\n",
       "      <td>0.000000</td>\n",
       "      <td>0.000000</td>\n",
       "      <td>0.000000</td>\n",
       "      <td>1</td>\n",
       "    </tr>\n",
       "    <tr>\n",
       "      <th>Mpala01-2</th>\n",
       "      <td>0.053160</td>\n",
       "      <td>0.055253</td>\n",
       "      <td>0.056518</td>\n",
       "      <td>0.061774</td>\n",
       "      <td>0.074713</td>\n",
       "      <td>0.075838</td>\n",
       "      <td>0.060509</td>\n",
       "      <td>0.008965</td>\n",
       "      <td>2</td>\n",
       "    </tr>\n",
       "    <tr>\n",
       "      <th>Mpala01-3</th>\n",
       "      <td>0.050839</td>\n",
       "      <td>0.073447</td>\n",
       "      <td>0.110451</td>\n",
       "      <td>0.181671</td>\n",
       "      <td>0.206761</td>\n",
       "      <td>0.209809</td>\n",
       "      <td>0.121244</td>\n",
       "      <td>0.056650</td>\n",
       "      <td>3</td>\n",
       "    </tr>\n",
       "    <tr>\n",
       "      <th>Mpala01-4</th>\n",
       "      <td>0.053720</td>\n",
       "      <td>0.151243</td>\n",
       "      <td>0.196326</td>\n",
       "      <td>0.275715</td>\n",
       "      <td>1.270814</td>\n",
       "      <td>1.302914</td>\n",
       "      <td>0.280978</td>\n",
       "      <td>0.281088</td>\n",
       "      <td>4</td>\n",
       "    </tr>\n",
       "  </tbody>\n",
       "</table>\n",
       "</div>"
      ],
      "text/plain": [
       "                   0        25        50        75        98       100  \\\n",
       "Mpala01-13  0.050984  0.054362  0.059458  0.063149  0.081209  0.082254   \n",
       "Mpala01-1   0.000000  0.000000  0.000000  0.000000  0.000000  0.000000   \n",
       "Mpala01-2   0.053160  0.055253  0.056518  0.061774  0.074713  0.075838   \n",
       "Mpala01-3   0.050839  0.073447  0.110451  0.181671  0.206761  0.209809   \n",
       "Mpala01-4   0.053720  0.151243  0.196326  0.275715  1.270814  1.302914   \n",
       "\n",
       "                mean       std  id  \n",
       "Mpala01-13  0.061687  0.009864  13  \n",
       "Mpala01-1   0.000000  0.000000   1  \n",
       "Mpala01-2   0.060509  0.008965   2  \n",
       "Mpala01-3   0.121244  0.056650   3  \n",
       "Mpala01-4   0.280978  0.281088   4  "
      ]
     },
     "execution_count": 33,
     "metadata": {},
     "output_type": "execute_result"
    }
   ],
   "source": [
    "# Format percentile metric df for merging\n",
    "perc_t = perc.transpose()\n",
    "perc_t['id'] = [int(i.split('-')[-1]) for i in perc_t.index]\n",
    "perc_t.head()"
   ]
  },
  {
   "cell_type": "code",
   "execution_count": 34,
   "id": "a326c83e-4e1b-4d39-a395-178f8a93f239",
   "metadata": {
    "pycharm": {
     "name": "#%%\n"
    }
   },
   "outputs": [],
   "source": [
    "# Make complexity for Merging\n",
    "complexity_t = complexity.transpose()\n",
    "complexity_t['id'] = [int(i.split('-')[-1]) for i in complexity_t.index]"
   ]
  },
  {
   "cell_type": "code",
   "execution_count": 35,
   "id": "abe12c27-3184-4d31-8124-14423fb6146a",
   "metadata": {
    "pycharm": {
     "name": "#%%\n"
    }
   },
   "outputs": [],
   "source": [
    "# Make PAI for merging\n",
    "\n",
    "# Get rid of inf values (-0)\n",
    "# Also, limit to sum above 5 cm \n",
    "PAI_lim = PAI.iloc[1:].applymap(lambda x: 0 if x==-0 else x)\n",
    "\n",
    "# Undoing the log(pgap)/dz here (where dz = 0.25 m) and dividing by k=0.5 instead (spherical leaf angle dist.)\n",
    "# Also, only taking PAI values above 0.05 m (iloc[1:])\n",
    "PAI_lim = PAI.iloc[1:].applymap(lambda x: (x*0.25)/0.5)\n",
    "PAIsum_dict = {'PAIsum': list(PAI_lim.sum(axis=0)),\n",
    "                'id':[int(c.split('-')[-1]) for c in PAI_lim.columns]}\n",
    "\n",
    "PAIdf = pd.DataFrame(PAIsum_dict)"
   ]
  },
  {
   "cell_type": "code",
   "execution_count": 36,
   "id": "e215e0c4-c6d9-4b38-8579-5bdf2d9cb5bb",
   "metadata": {
    "pycharm": {
     "name": "#%%\n"
    }
   },
   "outputs": [],
   "source": [
    "# make xy dataframe, including percentile heights and cover metrics\n",
    "XYdf = pd.merge(cherb_df, BiomassData)\n",
    "# Add in percentile metrics (by merging on 'id' col)\n",
    "XYdf = pd.merge(XYdf, perc_t)\n",
    "# Add in complexity metrics\n",
    "XYdf = pd.merge(XYdf, complexity_t)\n",
    "# add in PAI\n",
    "XYdf = pd.merge(XYdf, PAIdf)\n",
    "\n",
    "# Add a log column \n",
    "XYdf['log(DryWeight)'] =  XYdf['Dry Weight Without Bag (g)'].apply(lambda x: np.log(x) if x>0 else x)"
   ]
  },
  {
   "cell_type": "code",
   "execution_count": 37,
   "id": "e7260810-aa2b-4bdb-8513-db26a558d021",
   "metadata": {
    "pycharm": {
     "name": "#%%\n"
    }
   },
   "outputs": [
    {
     "data": {
      "text/plain": [
       "Index(['featureid', 'id', 'coverherb_0m', 'coverherb_5cm', 'cover_0m',\n",
       "       'cover_5cm', 'Plot #', 'GPS #', 'Date Harvested', '% Cover', 'Height 1',\n",
       "       'Height 2', 'Height 3', 'Height 4', 'Average Height', 'Wet Weight (g)',\n",
       "       'Dry Weight (g)', 'Site', 'Type', 'Tree Species', 'Bag Size',\n",
       "       'Average Bag Weight (g)', 'Wet Weight Without Bag (g)',\n",
       "       'Dry Weight Without Bag (g)', 'Water Weight (g)', 'Max Height (cm)',\n",
       "       'Max Height (m)', '0', '25', '50', '75', '98', '100', 'mean', 'std',\n",
       "       'nlayers', 'gapsize', 'maxpeakh', 'ptoh', 'cscore', 'FHD', 'VDR',\n",
       "       'VDRpeak', 'meanpeakh', 'stdpeakh', 'cvpeakh', 'herbh', 'PAIsum',\n",
       "       'log(DryWeight)'],\n",
       "      dtype='object')"
      ]
     },
     "execution_count": 37,
     "metadata": {},
     "output_type": "execute_result"
    }
   ],
   "source": [
    "XYdf.columns"
   ]
  },
  {
   "cell_type": "code",
   "execution_count": 38,
   "id": "8cb68666-ec8b-441e-8f9c-0ce40c43a6f9",
   "metadata": {
    "pycharm": {
     "name": "#%%\n"
    }
   },
   "outputs": [],
   "source": [
    "# Save (using region)\n",
    "XYdf.to_csv(f'./data/out/{region}/XYdata.csv')"
   ]
  },
  {
   "cell_type": "markdown",
   "id": "9638145d-cada-4407-b523-040f5e621b5d",
   "metadata": {
    "pycharm": {
     "name": "#%% md\n"
    }
   },
   "source": [
    "### Extras - Plotting, Printing metrics, etc."
   ]
  },
  {
   "cell_type": "code",
   "execution_count": 39,
   "id": "ed27bbb9-4094-4f62-834e-43d3677678ea",
   "metadata": {
    "pycharm": {
     "name": "#%%\n"
    }
   },
   "outputs": [
    {
     "name": "stdout",
     "output_type": "stream",
     "text": [
      "data\\out\\Mpala\\.ipynb_checkpoints\n",
      "data\\out\\Mpala\\ComplexityMetrics.csv\n",
      "data\\out\\Mpala\\CoverD1.csv\n",
      "data\\out\\Mpala\\CoverD1byH.csv\n",
      "data\\out\\Mpala\\CoverD2.csv\n",
      "data\\out\\Mpala\\CoverD2byH.csv\n",
      "data\\out\\Mpala\\featureid_Metrics.cpg\n",
      "data\\out\\Mpala\\featureid_Metrics.dbf\n",
      "data\\out\\Mpala\\featureid_Metrics.prj\n",
      "data\\out\\Mpala\\featureid_Metrics.shp\n",
      "data\\out\\Mpala\\featureid_Metrics.shx\n",
      "data\\out\\Mpala\\FHPD1.csv\n",
      "data\\out\\Mpala\\FHPD2.csv\n",
      "data\\out\\Mpala\\Npulses.csv\n",
      "data\\out\\Mpala\\PercentileHeights.csv\n",
      "data\\out\\Mpala\\XYdata.csv\n"
     ]
    }
   ],
   "source": [
    "for f in metricdir.joinpath(region).glob('*'):\n",
    "    print(f)"
   ]
  },
  {
   "cell_type": "code",
   "execution_count": 40,
   "id": "57430f51-1c6c-434b-9a2e-c7fbaf2d6ac5",
   "metadata": {
    "pycharm": {
     "name": "#%%\n"
    }
   },
   "outputs": [
    {
     "data": {
      "text/plain": [
       "<matplotlib.collections.PathCollection at 0x253fc3edee0>"
      ]
     },
     "execution_count": 40,
     "metadata": {},
     "output_type": "execute_result"
    },
    {
     "data": {
      "image/png": "[encoded data removed]",
      "text/plain": [
       "<Figure size 640x480 with 3 Axes>"
      ]
     },
     "metadata": {},
     "output_type": "display_data"
    }
   ],
   "source": [
    "fig, (ax1, ax2, ax3) = plt.subplots(3, 1)\n",
    "# Dry Weight Without Bag (g)\n",
    "ax1.scatter(XYdf.coverherb_5cm,\n",
    "            XYdf['Dry Weight Without Bag (g)'],\n",
    "            c=XYdf['Water Weight (g)'])\n",
    "\n",
    "ax2.scatter(XYdf.cover_5cm,\n",
    "            XYdf['Dry Weight Without Bag (g)'],\n",
    "            c=XYdf['Water Weight (g)'])\n",
    "\n",
    "ax3.scatter(XYdf['mean'],\n",
    "            XYdf['Dry Weight Without Bag (g)'],\n",
    "            c=XYdf['Water Weight (g)'])"
   ]
  },
  {
   "cell_type": "code",
   "execution_count": 173,
   "id": "4c7165e6-fae3-4f40-831d-87f1bcabbbd5",
   "metadata": {
    "pycharm": {
     "name": "#%%\n"
    }
   },
   "outputs": [
    {
     "data": {
      "text/plain": [
       "<matplotlib.collections.PathCollection at 0x2ae31fda9a60>"
      ]
     },
     "execution_count": 173,
     "metadata": {},
     "output_type": "execute_result"
    },
    {
     "data": {
      "image/png": "[encoded data removed]",
      "text/plain": [
       "<Figure size 432x288 with 3 Axes>"
      ]
     },
     "metadata": {
      "needs_background": "light"
     },
     "output_type": "display_data"
    }
   ],
   "source": [
    "fig, (ax1, ax2, ax3) = plt.subplots(3, 1)\n",
    "# Dry Weight Without Bag (g)\n",
    "ax1.scatter(XYdf.coverherb_5cm,\n",
    "            XYdf['Wet Weight Without Bag (g)'],\n",
    "            c=XYdf['Water Weight (g)'])\n",
    "\n",
    "ax2.scatter(XYdf.cover_5cm,\n",
    "            XYdf['Wet Weight Without Bag (g)'],\n",
    "            c=XYdf['Water Weight (g)'])\n",
    "\n",
    "ax3.scatter(XYdf['mean'],\n",
    "            XYdf['Wet Weight Without Bag (g)'],\n",
    "            c=XYdf['Water Weight (g)'])"
   ]
  },
  {
   "cell_type": "code",
   "execution_count": 174,
   "id": "e9912abd-1434-4f6b-8b34-e99d8c326129",
   "metadata": {
    "pycharm": {
     "name": "#%%\n"
    }
   },
   "outputs": [
    {
     "data": {
      "text/plain": [
       "<matplotlib.collections.PathCollection at 0x2ae32f5c8f40>"
      ]
     },
     "execution_count": 174,
     "metadata": {},
     "output_type": "execute_result"
    },
    {
     "data": {
      "image/png": "[encoded data removed]",
      "text/plain": [
       "<Figure size 432x288 with 3 Axes>"
      ]
     },
     "metadata": {
      "needs_background": "light"
     },
     "output_type": "display_data"
    }
   ],
   "source": [
    "fig, (ax1, ax2, ax3) = plt.subplots(3, 1)\n",
    "# Dry Weight Without Bag (g)\n",
    "ax1.scatter(XYdf.coverherb_5cm,\n",
    "            XYdf['log(DryWeight)'],\n",
    "            c=XYdf['Water Weight (g)'])\n",
    "\n",
    "ax2.scatter(XYdf.cover_5cm,\n",
    "            XYdf['log(DryWeight)'],\n",
    "            c=XYdf['Water Weight (g)'])\n",
    "\n",
    "ax3.scatter(XYdf['mean'],\n",
    "            XYdf['log(DryWeight)'],\n",
    "            c=XYdf['Water Weight (g)'])"
   ]
  },
  {
   "cell_type": "code",
   "execution_count": 176,
   "id": "919c892f-3445-4d98-9dc1-6794055764c2",
   "metadata": {
    "pycharm": {
     "name": "#%%\n"
    }
   },
   "outputs": [
    {
     "data": {
      "text/plain": [
       "id                            0.065380\n",
       "coverherb_0m                  0.220126\n",
       "coverherb_5cm                 0.376849\n",
       "cover_0m                      0.236323\n",
       "cover_5cm                     0.428960\n",
       "Plot #                        0.065380\n",
       "GPS #                         0.065380\n",
       "% Cover                       0.988234\n",
       "Height 1                      0.546643\n",
       "Height 2                      0.537993\n",
       "Height 3                      0.518524\n",
       "Height 4                      0.477237\n",
       "Average Height                0.997706\n",
       "Wet Weight (g)                2.373469\n",
       "Dry Weight (g)                3.098013\n",
       "Average Bag Weight (g)        0.414207\n",
       "Wet Weight Without Bag (g)    2.680078\n",
       "Dry Weight Without Bag (g)         NaN\n",
       "Water Weight (g)              0.641592\n",
       "Max Height (cm)               0.714609\n",
       "Max Height (m)                0.714609\n",
       "0                             0.215749\n",
       "25                            0.351851\n",
       "50                            0.382393\n",
       "75                            0.368826\n",
       "98                            0.373047\n",
       "100                           0.406665\n",
       "mean                          0.445087\n",
       "std                           0.311091\n",
       "nlayers                       0.106919\n",
       "gapsize                       0.088037\n",
       "maxpeakh                      0.159508\n",
       "ptoh                          0.282205\n",
       "cscore                        0.153246\n",
       "FHD                           0.355620\n",
       "VDR                           0.228386\n",
       "VDRpeak                       0.097180\n",
       "meanpeakh                     0.211345\n",
       "stdpeakh                      0.124148\n",
       "cvpeakh                       0.098496\n",
       "herbh                         0.278699\n",
       "log(DryWeight)                3.000807\n",
       "Name: Dry Weight Without Bag (g), dtype: float64"
      ]
     },
     "execution_count": 176,
     "metadata": {},
     "output_type": "execute_result"
    }
   ],
   "source": [
    "# MI.loc['Dry Weight Without Bag (g)']"
   ]
  },
  {
   "cell_type": "code",
   "execution_count": 177,
   "id": "622b47e3-2afb-4cf9-89f5-80165e56a7de",
   "metadata": {
    "pycharm": {
     "name": "#%%\n"
    }
   },
   "outputs": [
    {
     "data": {
      "text/plain": [
       "id                            0.073774\n",
       "coverherb_0m                  0.232548\n",
       "coverherb_5cm                 0.404742\n",
       "cover_0m                      0.273824\n",
       "cover_5cm                     0.417998\n",
       "Plot #                        0.073774\n",
       "GPS #                         0.073774\n",
       "% Cover                       1.003916\n",
       "Height 1                      0.505323\n",
       "Height 2                      0.542140\n",
       "Height 3                      0.565516\n",
       "Height 4                      0.434456\n",
       "Average Height                0.943750\n",
       "Wet Weight (g)                3.162997\n",
       "Dry Weight (g)                2.418681\n",
       "Average Bag Weight (g)        0.448282\n",
       "Wet Weight Without Bag (g)         NaN\n",
       "Dry Weight Without Bag (g)    2.680078\n",
       "Water Weight (g)              0.709900\n",
       "Max Height (cm)               0.679562\n",
       "Max Height (m)                0.679562\n",
       "0                             0.231309\n",
       "25                            0.310507\n",
       "50                            0.374775\n",
       "75                            0.396821\n",
       "98                            0.407303\n",
       "100                           0.432321\n",
       "mean                          0.445470\n",
       "std                           0.309578\n",
       "nlayers                       0.133359\n",
       "gapsize                       0.091323\n",
       "maxpeakh                      0.146916\n",
       "ptoh                          0.276643\n",
       "cscore                        0.145196\n",
       "FHD                           0.395264\n",
       "VDR                           0.262005\n",
       "VDRpeak                       0.086978\n",
       "meanpeakh                     0.164965\n",
       "stdpeakh                      0.140965\n",
       "cvpeakh                       0.083619\n",
       "herbh                         0.386156\n",
       "log(DryWeight)                2.310426\n",
       "Name: Wet Weight Without Bag (g), dtype: float64"
      ]
     },
     "execution_count": 177,
     "metadata": {},
     "output_type": "execute_result"
    }
   ],
   "source": [
    "# MI.loc['Wet Weight Without Bag (g)']"
   ]
  },
  {
   "cell_type": "code",
   "execution_count": 178,
   "id": "42a16225-377c-4a82-997d-1e708af7b5c3",
   "metadata": {
    "pycharm": {
     "name": "#%%\n"
    }
   },
   "outputs": [],
   "source": [
    "corr = pairwise_corr(XYdf.select_dtypes(include=np.number), drop_nan=True)"
   ]
  },
  {
   "cell_type": "code",
   "execution_count": 183,
   "id": "2dfe8369-e1de-4a0e-b6b4-53f94dc12837",
   "metadata": {
    "pycharm": {
     "name": "#%%\n"
    }
   },
   "outputs": [],
   "source": [
    "# corr.loc['Dry Weight Without Bag (g)']"
   ]
  },
  {
   "cell_type": "code",
   "execution_count": 182,
   "id": "08b2d649-982b-4c49-96a0-faf66978a955",
   "metadata": {
    "pycharm": {
     "name": "#%%\n"
    }
   },
   "outputs": [],
   "source": [
    "# corr.loc['Wet Weight Without Bag (g)']"
   ]
  },
  {
   "cell_type": "code",
   "execution_count": 185,
   "id": "6f8bf403-20cf-4dff-b6ac-73aaef2558df",
   "metadata": {
    "pycharm": {
     "name": "#%%\n"
    }
   },
   "outputs": [
    {
     "data": {
      "text/plain": [
       "Dry Weight Without Bag (g)    0.998762\n",
       "Dry Weight (g)                0.996216\n",
       "Wet Weight Without Bag (g)    0.995066\n",
       "Wet Weight (g)                0.991383\n",
       "% Cover                       0.923653\n",
       "Average Height                0.920505\n",
       "Max Height (cm)               0.884410\n",
       "Max Height (m)                0.884410\n",
       "Water Weight (g)              0.855028\n",
       "Height 2                      0.851281\n",
       "Height 1                      0.837421\n",
       "mean                          0.818148\n",
       "Height 4                      0.816014\n",
       "Height 3                      0.815961\n",
       "75                            0.794731\n",
       "98                            0.791069\n",
       "50                            0.784541\n",
       "100                           0.782734\n",
       "Average Bag Weight (g)        0.755508\n",
       "cover_5cm                     0.751354\n",
       "std                           0.745806\n",
       "FHD                           0.736128\n",
       "coverherb_5cm                 0.723310\n",
       "25                            0.719637\n",
       "herbh                         0.691009\n",
       "maxpeakh                      0.667712\n",
       "0                             0.666489\n",
       "VDR                           0.662848\n",
       "ptoh                          0.661933\n",
       "cover_0m                      0.657133\n",
       "meanpeakh                     0.651572\n",
       "coverherb_0m                  0.596180\n",
       "cscore                        0.572163\n",
       "stdpeakh                      0.537955\n",
       "nlayers                       0.493042\n",
       "gapsize                       0.484532\n",
       "VDRpeak                       0.473173\n",
       "cvpeakh                       0.465061\n",
       "GPS #                         0.368380\n",
       "Plot #                        0.368380\n",
       "id                            0.368380\n",
       "log(DryWeight)                     NaN\n",
       "Name: log(DryWeight), dtype: float64"
      ]
     },
     "execution_count": 185,
     "metadata": {},
     "output_type": "execute_result"
    }
   ],
   "source": [
    "corr.loc['log(DryWeight)'].sort_values(ascending=False)"
   ]
  },
  {
   "cell_type": "code",
   "execution_count": 181,
   "id": "eb87fc37-884a-4d60-9f07-c25af39e381b",
   "metadata": {
    "pycharm": {
     "name": "#%%\n"
    }
   },
   "outputs": [
    {
     "data": {
      "text/plain": [
       "Dry Weight (g)                0.998981\n",
       "log(DryWeight)                0.998762\n",
       "Wet Weight Without Bag (g)    0.997647\n",
       "Wet Weight (g)                0.995651\n",
       "Average Height                0.929539\n",
       "% Cover                       0.928139\n",
       "Max Height (cm)               0.872069\n",
       "Max Height (m)                0.872069\n",
       "Water Weight (g)              0.850204\n",
       "Height 1                      0.815406\n",
       "Height 2                      0.811812\n",
       "Height 3                      0.803431\n",
       "Height 4                      0.784210\n",
       "mean                          0.767734\n",
       "cover_5cm                     0.758918\n",
       "Average Bag Weight (g)        0.750506\n",
       "100                           0.746070\n",
       "50                            0.731141\n",
       "coverherb_5cm                 0.727583\n",
       "98                            0.725110\n",
       "75                            0.722333\n",
       "FHD                           0.713418\n",
       "25                            0.710809\n",
       "std                           0.680609\n",
       "ptoh                          0.656738\n",
       "herbh                         0.653684\n",
       "cover_0m                      0.613718\n",
       "VDR                           0.605537\n",
       "coverherb_0m                  0.596762\n",
       "0                             0.592000\n",
       "meanpeakh                     0.587127\n",
       "maxpeakh                      0.522624\n",
       "cscore                        0.513786\n",
       "stdpeakh                      0.468904\n",
       "nlayers                       0.438771\n",
       "cvpeakh                       0.422850\n",
       "VDRpeak                       0.420285\n",
       "gapsize                       0.401801\n",
       "GPS #                         0.350102\n",
       "Plot #                        0.350102\n",
       "id                            0.350102\n",
       "Dry Weight Without Bag (g)         NaN\n",
       "Name: Dry Weight Without Bag (g), dtype: float64"
      ]
     },
     "execution_count": 181,
     "metadata": {},
     "output_type": "execute_result"
    }
   ],
   "source": [
    "corr.loc['Dry Weight Without Bag (g)'].sort_values(ascending=False)"
   ]
  },
  {
   "cell_type": "code",
   "execution_count": 1,
   "id": "9828d774-eb4c-4da2-bec7-28352f9e223e",
   "metadata": {
    "pycharm": {
     "name": "#%%\n"
    }
   },
   "outputs": [],
   "source": [
    "# Check on cherb cover values vs regular cover values"
   ]
  },
  {
   "cell_type": "code",
   "execution_count": 155,
   "id": "258635e8-50fd-4798-a451-f568534577bb",
   "metadata": {
    "pycharm": {
     "name": "#%%\n"
    }
   },
   "outputs": [
    {
     "data": {
      "text/plain": [
       "<matplotlib.collections.PathCollection at 0x2b7218651f70>"
      ]
     },
     "execution_count": 155,
     "metadata": {},
     "output_type": "execute_result"
    },
    {
     "data": {
      "image/png": "[encoded data removed]",
      "text/plain": [
       "<Figure size 432x288 with 1 Axes>"
      ]
     },
     "metadata": {
      "needs_background": "light"
     },
     "output_type": "display_data"
    }
   ],
   "source": [
    "plt.scatter(cherb_df['cover_0m'], cherb_dict['coverherb_0m'])"
   ]
  },
  {
   "cell_type": "code",
   "execution_count": 156,
   "id": "629e1f32-0122-4675-aae9-5b2497c8a82b",
   "metadata": {
    "pycharm": {
     "name": "#%%\n"
    }
   },
   "outputs": [
    {
     "data": {
      "text/plain": [
       "<matplotlib.collections.PathCollection at 0x2b721873a8e0>"
      ]
     },
     "execution_count": 156,
     "metadata": {},
     "output_type": "execute_result"
    },
    {
     "data": {
      "image/png": "[encoded data removed]",
      "text/plain": [
       "<Figure size 432x288 with 1 Axes>"
      ]
     },
     "metadata": {
      "needs_background": "light"
     },
     "output_type": "display_data"
    }
   ],
   "source": [
    "plt.scatter(cherb_df['cover_5cm'], cherb_dict['coverherb_5cm'])"
   ]
  },
  {
   "cell_type": "code",
   "execution_count": 47,
   "id": "d08e39f0-51c8-41c9-b30d-d2e112369120",
   "metadata": {
    "pycharm": {
     "name": "#%%\n"
    }
   },
   "outputs": [
    {
     "data": {
      "text/html": [
       "<div>\n",
       "<style scoped>\n",
       "    .dataframe tbody tr th:only-of-type {\n",
       "        vertical-align: middle;\n",
       "    }\n",
       "\n",
       "    .dataframe tbody tr th {\n",
       "        vertical-align: top;\n",
       "    }\n",
       "\n",
       "    .dataframe thead th {\n",
       "        text-align: right;\n",
       "    }\n",
       "</style>\n",
       "<table border=\"1\" class=\"dataframe\">\n",
       "  <thead>\n",
       "    <tr style=\"text-align: right;\">\n",
       "      <th></th>\n",
       "      <th>0.00</th>\n",
       "      <th>0.05</th>\n",
       "      <th>0.25</th>\n",
       "      <th>0.50</th>\n",
       "      <th>0.75</th>\n",
       "      <th>1.00</th>\n",
       "      <th>1.25</th>\n",
       "      <th>1.50</th>\n",
       "      <th>1.75</th>\n",
       "      <th>2.00</th>\n",
       "      <th>...</th>\n",
       "      <th>12.75</th>\n",
       "      <th>13.00</th>\n",
       "      <th>13.25</th>\n",
       "      <th>13.50</th>\n",
       "      <th>13.75</th>\n",
       "      <th>14.00</th>\n",
       "      <th>14.25</th>\n",
       "      <th>14.50</th>\n",
       "      <th>14.75</th>\n",
       "      <th>15.00</th>\n",
       "    </tr>\n",
       "  </thead>\n",
       "  <tbody>\n",
       "    <tr>\n",
       "      <th>Mpala01-13</th>\n",
       "      <td>0.508197</td>\n",
       "      <td>0.163934</td>\n",
       "      <td>0.000000</td>\n",
       "      <td>0.000000</td>\n",
       "      <td>0.000000</td>\n",
       "      <td>0.000000</td>\n",
       "      <td>0.000000</td>\n",
       "      <td>0.0</td>\n",
       "      <td>0.0</td>\n",
       "      <td>0.0</td>\n",
       "      <td>...</td>\n",
       "      <td>0.0</td>\n",
       "      <td>0.0</td>\n",
       "      <td>0.0</td>\n",
       "      <td>0.0</td>\n",
       "      <td>0.0</td>\n",
       "      <td>0.0</td>\n",
       "      <td>0.0</td>\n",
       "      <td>0.0</td>\n",
       "      <td>0.0</td>\n",
       "      <td>0.0</td>\n",
       "    </tr>\n",
       "    <tr>\n",
       "      <th>Mpala01-1</th>\n",
       "      <td>0.303571</td>\n",
       "      <td>0.000000</td>\n",
       "      <td>0.000000</td>\n",
       "      <td>0.000000</td>\n",
       "      <td>0.000000</td>\n",
       "      <td>0.000000</td>\n",
       "      <td>0.000000</td>\n",
       "      <td>0.0</td>\n",
       "      <td>0.0</td>\n",
       "      <td>0.0</td>\n",
       "      <td>...</td>\n",
       "      <td>0.0</td>\n",
       "      <td>0.0</td>\n",
       "      <td>0.0</td>\n",
       "      <td>0.0</td>\n",
       "      <td>0.0</td>\n",
       "      <td>0.0</td>\n",
       "      <td>0.0</td>\n",
       "      <td>0.0</td>\n",
       "      <td>0.0</td>\n",
       "      <td>0.0</td>\n",
       "    </tr>\n",
       "    <tr>\n",
       "      <th>Mpala01-2</th>\n",
       "      <td>0.400000</td>\n",
       "      <td>0.133333</td>\n",
       "      <td>0.000000</td>\n",
       "      <td>0.000000</td>\n",
       "      <td>0.000000</td>\n",
       "      <td>0.000000</td>\n",
       "      <td>0.000000</td>\n",
       "      <td>0.0</td>\n",
       "      <td>0.0</td>\n",
       "      <td>0.0</td>\n",
       "      <td>...</td>\n",
       "      <td>0.0</td>\n",
       "      <td>0.0</td>\n",
       "      <td>0.0</td>\n",
       "      <td>0.0</td>\n",
       "      <td>0.0</td>\n",
       "      <td>0.0</td>\n",
       "      <td>0.0</td>\n",
       "      <td>0.0</td>\n",
       "      <td>0.0</td>\n",
       "      <td>0.0</td>\n",
       "    </tr>\n",
       "    <tr>\n",
       "      <th>Mpala01-3</th>\n",
       "      <td>0.348837</td>\n",
       "      <td>0.255814</td>\n",
       "      <td>0.000000</td>\n",
       "      <td>0.000000</td>\n",
       "      <td>0.000000</td>\n",
       "      <td>0.000000</td>\n",
       "      <td>0.000000</td>\n",
       "      <td>0.0</td>\n",
       "      <td>0.0</td>\n",
       "      <td>0.0</td>\n",
       "      <td>...</td>\n",
       "      <td>0.0</td>\n",
       "      <td>0.0</td>\n",
       "      <td>0.0</td>\n",
       "      <td>0.0</td>\n",
       "      <td>0.0</td>\n",
       "      <td>0.0</td>\n",
       "      <td>0.0</td>\n",
       "      <td>0.0</td>\n",
       "      <td>0.0</td>\n",
       "      <td>0.0</td>\n",
       "    </tr>\n",
       "    <tr>\n",
       "      <th>Mpala01-4</th>\n",
       "      <td>0.893939</td>\n",
       "      <td>0.863636</td>\n",
       "      <td>0.318182</td>\n",
       "      <td>0.045455</td>\n",
       "      <td>0.045455</td>\n",
       "      <td>0.030303</td>\n",
       "      <td>0.030303</td>\n",
       "      <td>0.0</td>\n",
       "      <td>0.0</td>\n",
       "      <td>0.0</td>\n",
       "      <td>...</td>\n",
       "      <td>0.0</td>\n",
       "      <td>0.0</td>\n",
       "      <td>0.0</td>\n",
       "      <td>0.0</td>\n",
       "      <td>0.0</td>\n",
       "      <td>0.0</td>\n",
       "      <td>0.0</td>\n",
       "      <td>0.0</td>\n",
       "      <td>0.0</td>\n",
       "      <td>0.0</td>\n",
       "    </tr>\n",
       "  </tbody>\n",
       "</table>\n",
       "<p>5 rows × 62 columns</p>\n",
       "</div>"
      ],
      "text/plain": [
       "               0.00      0.05      0.25      0.50      0.75      1.00   \\\n",
       "Mpala01-13  0.508197  0.163934  0.000000  0.000000  0.000000  0.000000   \n",
       "Mpala01-1   0.303571  0.000000  0.000000  0.000000  0.000000  0.000000   \n",
       "Mpala01-2   0.400000  0.133333  0.000000  0.000000  0.000000  0.000000   \n",
       "Mpala01-3   0.348837  0.255814  0.000000  0.000000  0.000000  0.000000   \n",
       "Mpala01-4   0.893939  0.863636  0.318182  0.045455  0.045455  0.030303   \n",
       "\n",
       "               1.25   1.50   1.75   2.00   ...  12.75  13.00  13.25  13.50  \\\n",
       "Mpala01-13  0.000000    0.0    0.0    0.0  ...    0.0    0.0    0.0    0.0   \n",
       "Mpala01-1   0.000000    0.0    0.0    0.0  ...    0.0    0.0    0.0    0.0   \n",
       "Mpala01-2   0.000000    0.0    0.0    0.0  ...    0.0    0.0    0.0    0.0   \n",
       "Mpala01-3   0.000000    0.0    0.0    0.0  ...    0.0    0.0    0.0    0.0   \n",
       "Mpala01-4   0.030303    0.0    0.0    0.0  ...    0.0    0.0    0.0    0.0   \n",
       "\n",
       "            13.75  14.00  14.25  14.50  14.75  15.00  \n",
       "Mpala01-13    0.0    0.0    0.0    0.0    0.0    0.0  \n",
       "Mpala01-1     0.0    0.0    0.0    0.0    0.0    0.0  \n",
       "Mpala01-2     0.0    0.0    0.0    0.0    0.0    0.0  \n",
       "Mpala01-3     0.0    0.0    0.0    0.0    0.0    0.0  \n",
       "Mpala01-4     0.0    0.0    0.0    0.0    0.0    0.0  \n",
       "\n",
       "[5 rows x 62 columns]"
      ]
     },
     "execution_count": 47,
     "metadata": {},
     "output_type": "execute_result"
    }
   ],
   "source": [
    "coverd2.transpose().head()"
   ]
  },
  {
   "cell_type": "code",
   "execution_count": 38,
   "id": "14e9d7da-88c3-4a2c-881a-75eb320ba6f0",
   "metadata": {
    "pycharm": {
     "name": "#%%\n"
    }
   },
   "outputs": [
    {
     "data": {
      "text/plain": [
       "<AxesSubplot:xlabel='nlayers', ylabel='Count'>"
      ]
     },
     "execution_count": 38,
     "metadata": {},
     "output_type": "execute_result"
    },
    {
     "data": {
      "image/png": "[encoded data removed]",
      "text/plain": [
       "<Figure size 432x288 with 1 Axes>"
      ]
     },
     "metadata": {
      "needs_background": "light"
     },
     "output_type": "display_data"
    }
   ],
   "source": [
    "sns.histplot(complexity.loc[\"nlayers\"])"
   ]
  },
  {
   "cell_type": "code",
   "execution_count": 36,
   "id": "bd3990cc-c59f-4c61-a7f4-b27fd278053f",
   "metadata": {
    "pycharm": {
     "name": "#%%\n"
    }
   },
   "outputs": [
    {
     "data": {
      "text/plain": [
       "<AxesSubplot:xlabel='herbh', ylabel='Count'>"
      ]
     },
     "execution_count": 36,
     "metadata": {},
     "output_type": "execute_result"
    },
    {
     "data": {
      "image/png": "[encoded data removed]",
      "text/plain": [
       "<Figure size 432x288 with 1 Axes>"
      ]
     },
     "metadata": {
      "needs_background": "light"
     },
     "output_type": "display_data"
    }
   ],
   "source": [
    "sns.histplot(complexity.loc[\"herbh\"])"
   ]
  },
  {
   "cell_type": "code",
   "execution_count": 39,
   "id": "c33739cf-241f-403c-a7dc-bd38d9123e0f",
   "metadata": {
    "pycharm": {
     "name": "#%%\n"
    }
   },
   "outputs": [
    {
     "data": {
      "text/html": [
       "<div>\n",
       "<style scoped>\n",
       "    .dataframe tbody tr th:only-of-type {\n",
       "        vertical-align: middle;\n",
       "    }\n",
       "\n",
       "    .dataframe tbody tr th {\n",
       "        vertical-align: top;\n",
       "    }\n",
       "\n",
       "    .dataframe thead th {\n",
       "        text-align: right;\n",
       "    }\n",
       "</style>\n",
       "<table border=\"1\" class=\"dataframe\">\n",
       "  <thead>\n",
       "    <tr style=\"text-align: right;\">\n",
       "      <th></th>\n",
       "      <th>Mpala01-13</th>\n",
       "      <th>Mpala01-1</th>\n",
       "      <th>Mpala01-2</th>\n",
       "      <th>Mpala01-3</th>\n",
       "      <th>Mpala01-4</th>\n",
       "      <th>Mpala01-5</th>\n",
       "      <th>Mpala01-6</th>\n",
       "      <th>Mpala01-7</th>\n",
       "      <th>Mpala01-8</th>\n",
       "      <th>Mpala01-9</th>\n",
       "      <th>...</th>\n",
       "      <th>Mpala15-192</th>\n",
       "      <th>Mpala15-193</th>\n",
       "      <th>Mpala15-194</th>\n",
       "      <th>Mpala15-195</th>\n",
       "      <th>Mpala15-196</th>\n",
       "      <th>Mpala15-197</th>\n",
       "      <th>Mpala15-200</th>\n",
       "      <th>Mpala15-198</th>\n",
       "      <th>Mpala15-199</th>\n",
       "      <th>Mpala07-121</th>\n",
       "    </tr>\n",
       "  </thead>\n",
       "  <tbody>\n",
       "    <tr>\n",
       "      <th>nlayers</th>\n",
       "      <td>1.000000</td>\n",
       "      <td>1.000000</td>\n",
       "      <td>1.000000</td>\n",
       "      <td>1.000000</td>\n",
       "      <td>2.000000</td>\n",
       "      <td>1.000000</td>\n",
       "      <td>1.000000</td>\n",
       "      <td>2.000000</td>\n",
       "      <td>1.000000</td>\n",
       "      <td>1.000000</td>\n",
       "      <td>...</td>\n",
       "      <td>2.000000</td>\n",
       "      <td>1.000000</td>\n",
       "      <td>3.000000</td>\n",
       "      <td>0</td>\n",
       "      <td>1.000000</td>\n",
       "      <td>1.000000</td>\n",
       "      <td>0</td>\n",
       "      <td>3.000000</td>\n",
       "      <td>0</td>\n",
       "      <td>1.000000</td>\n",
       "    </tr>\n",
       "    <tr>\n",
       "      <th>gapsize</th>\n",
       "      <td>0.000000</td>\n",
       "      <td>0.000000</td>\n",
       "      <td>0.000000</td>\n",
       "      <td>0.000000</td>\n",
       "      <td>1.250000</td>\n",
       "      <td>0.000000</td>\n",
       "      <td>0.000000</td>\n",
       "      <td>1.700000</td>\n",
       "      <td>0.000000</td>\n",
       "      <td>0.000000</td>\n",
       "      <td>...</td>\n",
       "      <td>1.950000</td>\n",
       "      <td>0.000000</td>\n",
       "      <td>2.200000</td>\n",
       "      <td>0</td>\n",
       "      <td>0.000000</td>\n",
       "      <td>0.000000</td>\n",
       "      <td>0</td>\n",
       "      <td>1.000000</td>\n",
       "      <td>0</td>\n",
       "      <td>0.000000</td>\n",
       "    </tr>\n",
       "    <tr>\n",
       "      <th>maxpeakh</th>\n",
       "      <td>0.050000</td>\n",
       "      <td>0.050000</td>\n",
       "      <td>0.050000</td>\n",
       "      <td>0.050000</td>\n",
       "      <td>1.500000</td>\n",
       "      <td>0.050000</td>\n",
       "      <td>0.050000</td>\n",
       "      <td>1.750000</td>\n",
       "      <td>0.050000</td>\n",
       "      <td>0.050000</td>\n",
       "      <td>...</td>\n",
       "      <td>2.000000</td>\n",
       "      <td>0.050000</td>\n",
       "      <td>3.000000</td>\n",
       "      <td>0</td>\n",
       "      <td>0.050000</td>\n",
       "      <td>0.050000</td>\n",
       "      <td>0</td>\n",
       "      <td>2.000000</td>\n",
       "      <td>0</td>\n",
       "      <td>0.050000</td>\n",
       "    </tr>\n",
       "    <tr>\n",
       "      <th>ptoh</th>\n",
       "      <td>0.607874</td>\n",
       "      <td>1.045707</td>\n",
       "      <td>0.659301</td>\n",
       "      <td>0.238313</td>\n",
       "      <td>1.151265</td>\n",
       "      <td>0.353347</td>\n",
       "      <td>0.589194</td>\n",
       "      <td>0.971465</td>\n",
       "      <td>0.058949</td>\n",
       "      <td>0.918483</td>\n",
       "      <td>...</td>\n",
       "      <td>0.982254</td>\n",
       "      <td>1.192676</td>\n",
       "      <td>1.086442</td>\n",
       "      <td>0</td>\n",
       "      <td>0.993917</td>\n",
       "      <td>1.194317</td>\n",
       "      <td>0</td>\n",
       "      <td>0.814945</td>\n",
       "      <td>0</td>\n",
       "      <td>1.227023</td>\n",
       "    </tr>\n",
       "    <tr>\n",
       "      <th>cscore</th>\n",
       "      <td>0.032258</td>\n",
       "      <td>0.032258</td>\n",
       "      <td>0.032258</td>\n",
       "      <td>0.032258</td>\n",
       "      <td>0.080645</td>\n",
       "      <td>0.032258</td>\n",
       "      <td>0.048387</td>\n",
       "      <td>0.096774</td>\n",
       "      <td>0.048387</td>\n",
       "      <td>0.048387</td>\n",
       "      <td>...</td>\n",
       "      <td>0.064516</td>\n",
       "      <td>0.016129</td>\n",
       "      <td>0.048387</td>\n",
       "      <td>0</td>\n",
       "      <td>0.032258</td>\n",
       "      <td>0.016129</td>\n",
       "      <td>0</td>\n",
       "      <td>0.112903</td>\n",
       "      <td>0</td>\n",
       "      <td>0.016129</td>\n",
       "    </tr>\n",
       "  </tbody>\n",
       "</table>\n",
       "<p>5 rows × 178 columns</p>\n",
       "</div>"
      ],
      "text/plain": [
       "          Mpala01-13  Mpala01-1  Mpala01-2  Mpala01-3  Mpala01-4  Mpala01-5  \\\n",
       "nlayers     1.000000   1.000000   1.000000   1.000000   2.000000   1.000000   \n",
       "gapsize     0.000000   0.000000   0.000000   0.000000   1.250000   0.000000   \n",
       "maxpeakh    0.050000   0.050000   0.050000   0.050000   1.500000   0.050000   \n",
       "ptoh        0.607874   1.045707   0.659301   0.238313   1.151265   0.353347   \n",
       "cscore      0.032258   0.032258   0.032258   0.032258   0.080645   0.032258   \n",
       "\n",
       "          Mpala01-6  Mpala01-7  Mpala01-8  Mpala01-9  ...  Mpala15-192  \\\n",
       "nlayers    1.000000   2.000000   1.000000   1.000000  ...     2.000000   \n",
       "gapsize    0.000000   1.700000   0.000000   0.000000  ...     1.950000   \n",
       "maxpeakh   0.050000   1.750000   0.050000   0.050000  ...     2.000000   \n",
       "ptoh       0.589194   0.971465   0.058949   0.918483  ...     0.982254   \n",
       "cscore     0.048387   0.096774   0.048387   0.048387  ...     0.064516   \n",
       "\n",
       "          Mpala15-193  Mpala15-194  Mpala15-195  Mpala15-196  Mpala15-197  \\\n",
       "nlayers      1.000000     3.000000            0     1.000000     1.000000   \n",
       "gapsize      0.000000     2.200000            0     0.000000     0.000000   \n",
       "maxpeakh     0.050000     3.000000            0     0.050000     0.050000   \n",
       "ptoh         1.192676     1.086442            0     0.993917     1.194317   \n",
       "cscore       0.016129     0.048387            0     0.032258     0.016129   \n",
       "\n",
       "          Mpala15-200  Mpala15-198  Mpala15-199  Mpala07-121  \n",
       "nlayers             0     3.000000            0     1.000000  \n",
       "gapsize             0     1.000000            0     0.000000  \n",
       "maxpeakh            0     2.000000            0     0.050000  \n",
       "ptoh                0     0.814945            0     1.227023  \n",
       "cscore              0     0.112903            0     0.016129  \n",
       "\n",
       "[5 rows x 178 columns]"
      ]
     },
     "execution_count": 39,
     "metadata": {},
     "output_type": "execute_result"
    }
   ],
   "source": [
    "complexity.head()"
   ]
  }
 ],
 "metadata": {
  "kernelspec": {
   "display_name": "LidarDataQualityAnalysis",
   "language": "python",
   "name": "lidardataqualityanalysis"
  },
  "language_info": {
   "codemirror_mode": {
    "name": "ipython",
    "version": 3
   },
   "file_extension": ".py",
   "mimetype": "text/x-python",
   "name": "python",
   "nbconvert_exporter": "python",
   "pygments_lexer": "ipython3",
   "version": "3.8.6"
  }
 },
 "nbformat": 4,
 "nbformat_minor": 5
}
